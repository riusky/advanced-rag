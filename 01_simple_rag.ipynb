{
 "cells": [
  {
   "cell_type": "markdown",
   "metadata": {},
   "source": [
    "# 简单的 RAG 实现\n",
    "\n",
    "基于 [Alfredo Deza 的 GitHub 仓库](https://github.com/alfredodeza/learn-retrieval-augmented-generation)。\n",
    "\n",
    "在本笔记本中，我们将基于一个结构化的葡萄酒评分 CSV 文件构建一个简单的 RAG 应用程序。我们将：\n",
    "\n",
    "* [加载数据集](#loading-the-dataset)。\n",
    "* [使用向量嵌入对某一列进行编码](#encode-using-vector-embedding)。\n",
    "* [**R**：Retrieve 根据用户查询，使用语义相似性检索部分行](#retrieve-sematically-relevant-data-based-on-users-query)。\n",
    "* [**A**：Augment  将检索到的数据增强到 LLM 的提示中](#augment-the-prompt-to-the-llm-with-retrieved-data)。\n",
    "* [**G**：Generate 根据检索到的行生成对用户查询的回复](#generate-reply-to-the-users-query)。"
   ]
  },
  {
   "cell_type": "markdown",
   "metadata": {},
   "source": [
    "### 视觉改进\n",
    "\n",
    "我们将使用 [rich 库](https://github.com/Textualize/rich) 和 `rich-theme-manager` 来使输出更易读，并抑制警告信息。"
   ]
  },
  {
   "cell_type": "code",
   "execution_count": 2,
   "metadata": {},
   "outputs": [
    {
     "data": {
      "text/html": [
       "<pre style=\"white-space:pre;overflow-x:auto;line-height:normal;font-family:Menlo,'DejaVu Sans Mono',consolas,'Courier New',monospace\"><span style=\"font-weight: bold\"> Theme  Description       Tags  Path               </span>\n",
       " dark   Dark mode theme   dark  themes\\dark.theme  \n",
       " light  Light mode theme        themes\\light.theme \n",
       "</pre>\n"
      ],
      "text/plain": [
       "\u001b[1m \u001b[0m\u001b[1mTheme\u001b[0m\u001b[1m \u001b[0m\u001b[1m \u001b[0m\u001b[1mDescription     \u001b[0m\u001b[1m \u001b[0m\u001b[1m \u001b[0m\u001b[1mTags\u001b[0m\u001b[1m \u001b[0m\u001b[1m \u001b[0m\u001b[1mPath              \u001b[0m\u001b[1m \u001b[0m\n",
       " dark   Dark mode theme   dark  themes\\dark.theme  \n",
       " light  Light mode theme        themes\\light.theme \n"
      ]
     },
     "metadata": {},
     "output_type": "display_data"
    },
    {
     "data": {
      "text/html": [
       "<pre style=\"white-space:pre;overflow-x:auto;line-height:normal;font-family:Menlo,'DejaVu Sans Mono',consolas,'Courier New',monospace\"><span style=\"font-style: italic\">                                      Theme: dark - themes\\dark.theme                                      </span>\n",
       "┌───────────────────┬───────────────┬───────┬─────────┬─────────┬────────────────┬────────────────────────┐\n",
       "│<span style=\"font-weight: bold\"> style             </span>│<span style=\"font-weight: bold\"> color         </span>│<span style=\"font-weight: bold\"> color </span>│<span style=\"font-weight: bold\"> bgcolor </span>│<span style=\"font-weight: bold\"> bgcolor </span>│<span style=\"font-weight: bold\"> attributes     </span>│<span style=\"font-weight: bold\"> example                </span>│\n",
       "├───────────────────┼───────────────┼───────┼─────────┼─────────┼────────────────┼────────────────────────┤\n",
       "│ default           │ bright_white  │ <span style=\"color: #ffffff; text-decoration-color: #ffffff\">█████</span> │ black   │ <span style=\"color: #000000; text-decoration-color: #000000\">█████  </span> │ -------------- │ <span style=\"color: #ffffff; text-decoration-color: #ffffff; background-color: #000000\">The quick brown fox...</span> │\n",
       "├───────────────────┼───────────────┼───────┼─────────┼─────────┼────────────────┼────────────────────────┤\n",
       "│ repr.attrib_name  │ #e87d3e       │ <span style=\"color: #e87d3e; text-decoration-color: #e87d3e\">█████</span> │ None    │         │ <span style=\"font-weight: bold\">b</span>------------- │ <span style=\"color: #e87d3e; text-decoration-color: #e87d3e; font-weight: bold\">The quick brown fox...</span> │\n",
       "├───────────────────┼───────────────┼───────┼─────────┼─────────┼────────────────┼────────────────────────┤\n",
       "│ repr.attrib_value │ bright_blue   │ <span style=\"color: #0000ff; text-decoration-color: #0000ff\">█████</span> │ None    │         │ -------------- │ <span style=\"color: #0000ff; text-decoration-color: #0000ff\">The quick brown fox...</span> │\n",
       "├───────────────────┼───────────────┼───────┼─────────┼─────────┼────────────────┼────────────────────────┤\n",
       "│ repr.call         │ bright_yellow │ <span style=\"color: #ffff00; text-decoration-color: #ffff00\">█████</span> │ None    │         │ -------------- │ <span style=\"color: #ffff00; text-decoration-color: #ffff00\">The quick brown fox...</span> │\n",
       "├───────────────────┼───────────────┼───────┼─────────┼─────────┼────────────────┼────────────────────────┤\n",
       "│ repr.none         │ white         │ <span style=\"color: #c0c0c0; text-decoration-color: #c0c0c0\">█████</span> │ None    │         │ -<span style=\"font-weight: bold\">d</span>------------ │ <span style=\"color: #dfdfdf; text-decoration-color: #dfdfdf\">The quick brown fox...</span> │\n",
       "├───────────────────┼───────────────┼───────┼─────────┼─────────┼────────────────┼────────────────────────┤\n",
       "│ repr.number       │ bright_red    │ <span style=\"color: #ff0000; text-decoration-color: #ff0000\">█████</span> │ None    │         │ -------------- │ <span style=\"color: #ff0000; text-decoration-color: #ff0000\">The quick brown fox...</span> │\n",
       "├───────────────────┼───────────────┼───────┼─────────┼─────────┼────────────────┼────────────────────────┤\n",
       "│ repr.own          │ #e87d3e       │ <span style=\"color: #e87d3e; text-decoration-color: #e87d3e\">█████</span> │ None    │         │ <span style=\"font-weight: bold\">b</span>------------- │ <span style=\"color: #e87d3e; text-decoration-color: #e87d3e; font-weight: bold\">The quick brown fox...</span> │\n",
       "├───────────────────┼───────────────┼───────┼─────────┼─────────┼────────────────┼────────────────────────┤\n",
       "│ repr.str          │ bright_green  │ <span style=\"color: #00ff00; text-decoration-color: #00ff00\">█████</span> │ None    │         │ -------------- │ <span style=\"color: #00ff00; text-decoration-color: #00ff00\">The quick brown fox...</span> │\n",
       "├───────────────────┼───────────────┼───────┼─────────┼─────────┼────────────────┼────────────────────────┤\n",
       "│ repr.tag_name     │ cyan          │ <span style=\"color: #008080; text-decoration-color: #008080\">█████</span> │ None    │         │ -<span style=\"font-weight: bold\">d</span>------------ │ <span style=\"color: #7fbfbf; text-decoration-color: #7fbfbf\">The quick brown fox...</span> │\n",
       "└───────────────────┴───────────────┴───────┴─────────┴─────────┴────────────────┴────────────────────────┘\n",
       "┌─ attributes legend ──────────────────────────────────────────────────────────────────┐\n",
       "│  <span style=\"font-weight: bold\">b</span>: bold, <span style=\"font-weight: bold\">d</span>: dim, <span style=\"font-weight: bold\">i</span>: italic, <span style=\"font-weight: bold\">u</span>: underline, <span style=\"font-weight: bold\">U</span>: double underline, <span style=\"font-weight: bold\">B</span>: blink, <span style=\"font-weight: bold\">2</span>: blink2  │\n",
       "│  <span style=\"font-weight: bold\">r</span>: reverse, <span style=\"font-weight: bold\">c</span>: conceal, <span style=\"font-weight: bold\">s</span>: strike, <span style=\"font-weight: bold\">f</span>: frame, <span style=\"font-weight: bold\">e</span>: encircle, <span style=\"font-weight: bold\">o</span>: overline, <span style=\"font-weight: bold\">L</span>: Link      │\n",
       "└──────────────────────────────────────────────────────────────────────────────────────┘\n",
       "</pre>\n"
      ],
      "text/plain": [
       "\u001b[3m                                      Theme: dark - themes\\dark.theme                                      \u001b[0m\n",
       "┌───────────────────┬───────────────┬───────┬─────────┬─────────┬────────────────┬────────────────────────┐\n",
       "│\u001b[1m \u001b[0m\u001b[1mstyle            \u001b[0m\u001b[1m \u001b[0m│\u001b[1m \u001b[0m\u001b[1mcolor        \u001b[0m\u001b[1m \u001b[0m│\u001b[1m \u001b[0m\u001b[1mcolor\u001b[0m\u001b[1m \u001b[0m│\u001b[1m \u001b[0m\u001b[1mbgcolor\u001b[0m\u001b[1m \u001b[0m│\u001b[1m \u001b[0m\u001b[1mbgcolor\u001b[0m\u001b[1m \u001b[0m│\u001b[1m \u001b[0m\u001b[1mattributes    \u001b[0m\u001b[1m \u001b[0m│\u001b[1m \u001b[0m\u001b[1mexample               \u001b[0m\u001b[1m \u001b[0m│\n",
       "├───────────────────┼───────────────┼───────┼─────────┼─────────┼────────────────┼────────────────────────┤\n",
       "│ default           │ bright_white  │ \u001b[97m█████\u001b[0m │ black   │ \u001b[30m█████  \u001b[0m │ -------------- │ \u001b[97;40mThe quick brown fox...\u001b[0m │\n",
       "├───────────────────┼───────────────┼───────┼─────────┼─────────┼────────────────┼────────────────────────┤\n",
       "│ repr.attrib_name  │ #e87d3e       │ \u001b[38;2;232;125;62m█████\u001b[0m │ None    │         │ \u001b[1mb\u001b[0m------------- │ \u001b[1;38;2;232;125;62mThe quick brown fox...\u001b[0m │\n",
       "├───────────────────┼───────────────┼───────┼─────────┼─────────┼────────────────┼────────────────────────┤\n",
       "│ repr.attrib_value │ bright_blue   │ \u001b[94m█████\u001b[0m │ None    │         │ -------------- │ \u001b[94mThe quick brown fox...\u001b[0m │\n",
       "├───────────────────┼───────────────┼───────┼─────────┼─────────┼────────────────┼────────────────────────┤\n",
       "│ repr.call         │ bright_yellow │ \u001b[93m█████\u001b[0m │ None    │         │ -------------- │ \u001b[93mThe quick brown fox...\u001b[0m │\n",
       "├───────────────────┼───────────────┼───────┼─────────┼─────────┼────────────────┼────────────────────────┤\n",
       "│ repr.none         │ white         │ \u001b[37m█████\u001b[0m │ None    │         │ -\u001b[1md\u001b[0m------------ │ \u001b[2;37mThe quick brown fox...\u001b[0m │\n",
       "├───────────────────┼───────────────┼───────┼─────────┼─────────┼────────────────┼────────────────────────┤\n",
       "│ repr.number       │ bright_red    │ \u001b[91m█████\u001b[0m │ None    │         │ -------------- │ \u001b[91mThe quick brown fox...\u001b[0m │\n",
       "├───────────────────┼───────────────┼───────┼─────────┼─────────┼────────────────┼────────────────────────┤\n",
       "│ repr.own          │ #e87d3e       │ \u001b[38;2;232;125;62m█████\u001b[0m │ None    │         │ \u001b[1mb\u001b[0m------------- │ \u001b[1;38;2;232;125;62mThe quick brown fox...\u001b[0m │\n",
       "├───────────────────┼───────────────┼───────┼─────────┼─────────┼────────────────┼────────────────────────┤\n",
       "│ repr.str          │ bright_green  │ \u001b[92m█████\u001b[0m │ None    │         │ -------------- │ \u001b[92mThe quick brown fox...\u001b[0m │\n",
       "├───────────────────┼───────────────┼───────┼─────────┼─────────┼────────────────┼────────────────────────┤\n",
       "│ repr.tag_name     │ cyan          │ \u001b[36m█████\u001b[0m │ None    │         │ -\u001b[1md\u001b[0m------------ │ \u001b[2;36mThe quick brown fox...\u001b[0m │\n",
       "└───────────────────┴───────────────┴───────┴─────────┴─────────┴────────────────┴────────────────────────┘\n",
       "┌─ attributes legend ──────────────────────────────────────────────────────────────────┐\n",
       "│  \u001b[1mb\u001b[0m: bold, \u001b[1md\u001b[0m: dim, \u001b[1mi\u001b[0m: italic, \u001b[1mu\u001b[0m: underline, \u001b[1mU\u001b[0m: double underline, \u001b[1mB\u001b[0m: blink, \u001b[1m2\u001b[0m: blink2  │\n",
       "│  \u001b[1mr\u001b[0m: reverse, \u001b[1mc\u001b[0m: conceal, \u001b[1ms\u001b[0m: strike, \u001b[1mf\u001b[0m: frame, \u001b[1me\u001b[0m: encircle, \u001b[1mo\u001b[0m: overline, \u001b[1mL\u001b[0m: Link      │\n",
       "└──────────────────────────────────────────────────────────────────────────────────────┘\n"
      ]
     },
     "metadata": {},
     "output_type": "display_data"
    }
   ],
   "source": [
    "from rich.console import Console\n",
    "from rich.style import Style\n",
    "import pathlib\n",
    "from rich_theme_manager import Theme, ThemeManager\n",
    "\n",
    "THEMES = [\n",
    "    Theme(\n",
    "        name=\"dark\",\n",
    "        description=\"Dark mode theme\",\n",
    "        tags=[\"dark\"],\n",
    "        styles={\n",
    "            \"repr.own\": Style(color=\"#e87d3e\", bold=True),      # Class names\n",
    "            \"repr.tag_name\": \"dim cyan\",                        # Adjust tag names \n",
    "            \"repr.call\": \"bright_yellow\",                       # Function calls and other symbols\n",
    "            \"repr.str\": \"bright_green\",                         # String representation\n",
    "            \"repr.number\": \"bright_red\",                        # Numbers\n",
    "            \"repr.none\": \"dim white\",                           # None\n",
    "            \"repr.attrib_name\": Style(color=\"#e87d3e\", bold=True),    # Attribute names\n",
    "            \"repr.attrib_value\": \"bright_blue\",                 # Attribute values\n",
    "            \"default\": \"bright_white on black\"                  # Default text and background\n",
    "        },\n",
    "    ),\n",
    "    Theme(\n",
    "        name=\"light\",\n",
    "        description=\"Light mode theme\",\n",
    "        styles={\n",
    "            \"repr.own\": Style(color=\"#22863a\", bold=True),          # Class names\n",
    "            \"repr.tag_name\": Style(color=\"#00bfff\", bold=True),     # Adjust tag names \n",
    "            \"repr.call\": Style(color=\"#ffff00\", bold=True),         # Function calls and other symbols\n",
    "            \"repr.str\": Style(color=\"#008080\", bold=True),          # String representation\n",
    "            \"repr.number\": Style(color=\"#ff6347\", bold=True),       # Numbers\n",
    "            \"repr.none\": Style(color=\"#808080\", bold=True),         # None\n",
    "            \"repr.attrib_name\": Style(color=\"#ffff00\", bold=True),  # Attribute names\n",
    "            \"repr.attrib_value\": Style(color=\"#008080\", bold=True), # Attribute values\n",
    "            \"default\": Style(color=\"#000000\", bgcolor=\"#ffffff\"),   # Default text and background\n",
    "        },\n",
    "    ),\n",
    "]\n",
    "\n",
    "theme_dir = pathlib.Path(\"themes\").expanduser()\n",
    "theme_dir.expanduser().mkdir(parents=True, exist_ok=True)\n",
    "\n",
    "theme_manager = ThemeManager(theme_dir=theme_dir, themes=THEMES)\n",
    "theme_manager.list_themes()\n",
    "\n",
    "dark = theme_manager.get(\"dark\")\n",
    "theme_manager.preview_theme(dark)"
   ]
  },
  {
   "cell_type": "code",
   "execution_count": 3,
   "metadata": {},
   "outputs": [],
   "source": [
    "from rich.console import Console\n",
    "\n",
    "dark = theme_manager.get(\"dark\")\n",
    "# Create a console with the dark theme\n",
    "console = Console(theme=dark)\n"
   ]
  },
  {
   "cell_type": "code",
   "execution_count": 4,
   "metadata": {},
   "outputs": [],
   "source": [
    "import warnings\n",
    "\n",
    "# Suppress warnings\n",
    "warnings.filterwarnings('ignore')"
   ]
  },
  {
   "cell_type": "markdown",
   "metadata": {},
   "source": [
    "## 加载数据集 <a id='loading-the-dataset'></a>\n",
    "\n",
    "由于数据是一个简单、小型且结构化的 CSV 文件，我们可以使用 Pandas 来加载它。"
   ]
  },
  {
   "cell_type": "code",
   "execution_count": 6,
   "metadata": {},
   "outputs": [
    {
     "data": {
      "text/html": [
       "<pre style=\"white-space:pre;overflow-x:auto;line-height:normal;font-family:Menlo,'DejaVu Sans Mono',consolas,'Courier New',monospace\"><span style=\"font-weight: bold\">[</span>\n",
       "    <span style=\"font-weight: bold\">{</span>\n",
       "        <span style=\"color: #00ff00; text-decoration-color: #00ff00\">'name'</span>: <span style=\"color: #00ff00; text-decoration-color: #00ff00\">'3 Rings Reserve Shiraz 2004'</span>,\n",
       "        <span style=\"color: #00ff00; text-decoration-color: #00ff00\">'region'</span>: <span style=\"color: #00ff00; text-decoration-color: #00ff00\">'Barossa Valley, Barossa, South Australia, Australia'</span>,\n",
       "        <span style=\"color: #00ff00; text-decoration-color: #00ff00\">'variety'</span>: <span style=\"color: #00ff00; text-decoration-color: #00ff00\">'Red Wine'</span>,\n",
       "        <span style=\"color: #00ff00; text-decoration-color: #00ff00\">'rating'</span>: <span style=\"color: #ff0000; text-decoration-color: #ff0000\">96.0</span>,\n",
       "        <span style=\"color: #00ff00; text-decoration-color: #00ff00\">'notes'</span>: <span style=\"color: #00ff00; text-decoration-color: #00ff00\">'Vintage Comments : Classic Barossa vintage conditions. An average wet Spring followed by extreme </span>\n",
       "<span style=\"color: #00ff00; text-decoration-color: #00ff00\">heat in early February. Occasional rainfall events kept the vines in good balance up to harvest in late March 2004.</span>\n",
       "<span style=\"color: #00ff00; text-decoration-color: #00ff00\">Very good quality coupled with good average yields. More than 30 months in wood followed by six months tank </span>\n",
       "<span style=\"color: #00ff00; text-decoration-color: #00ff00\">maturation of the blend prior to bottling, July 2007. '</span>\n",
       "    <span style=\"font-weight: bold\">}</span>,\n",
       "    <span style=\"font-weight: bold\">{</span>\n",
       "        <span style=\"color: #00ff00; text-decoration-color: #00ff00\">'name'</span>: <span style=\"color: #00ff00; text-decoration-color: #00ff00\">'Abreu Vineyards Cappella 2007'</span>,\n",
       "        <span style=\"color: #00ff00; text-decoration-color: #00ff00\">'region'</span>: <span style=\"color: #00ff00; text-decoration-color: #00ff00\">'Napa Valley, California'</span>,\n",
       "        <span style=\"color: #00ff00; text-decoration-color: #00ff00\">'variety'</span>: <span style=\"color: #00ff00; text-decoration-color: #00ff00\">'Red Wine'</span>,\n",
       "        <span style=\"color: #00ff00; text-decoration-color: #00ff00\">'rating'</span>: <span style=\"color: #ff0000; text-decoration-color: #ff0000\">96.0</span>,\n",
       "        <span style=\"color: #00ff00; text-decoration-color: #00ff00\">'notes'</span>: <span style=\"color: #00ff00; text-decoration-color: #00ff00\">'Cappella is a proprietary blend of two clones of Cabernet Sauvignon with Cabernet Franc, Petit </span>\n",
       "<span style=\"color: #00ff00; text-decoration-color: #00ff00\">Verdot and Merlot. The gravelly soil at Cappella produces fruit that is very elegant in structure. The resulting </span>\n",
       "<span style=\"color: #00ff00; text-decoration-color: #00ff00\">wine exhibits beautiful purity of fruit with fine grained and lengthy tannins. '</span>\n",
       "    <span style=\"font-weight: bold\">}</span>\n",
       "<span style=\"font-weight: bold\">]</span>\n",
       "</pre>\n"
      ],
      "text/plain": [
       "\u001b[1m[\u001b[0m\n",
       "    \u001b[1m{\u001b[0m\n",
       "        \u001b[92m'name'\u001b[0m: \u001b[92m'3 Rings Reserve Shiraz 2004'\u001b[0m,\n",
       "        \u001b[92m'region'\u001b[0m: \u001b[92m'Barossa Valley, Barossa, South Australia, Australia'\u001b[0m,\n",
       "        \u001b[92m'variety'\u001b[0m: \u001b[92m'Red Wine'\u001b[0m,\n",
       "        \u001b[92m'rating'\u001b[0m: \u001b[91m96.0\u001b[0m,\n",
       "        \u001b[92m'notes'\u001b[0m: \u001b[92m'Vintage Comments : Classic Barossa vintage conditions. An average wet Spring followed by extreme \u001b[0m\n",
       "\u001b[92mheat in early February. Occasional rainfall events kept the vines in good balance up to harvest in late March 2004.\u001b[0m\n",
       "\u001b[92mVery good quality coupled with good average yields. More than 30 months in wood followed by six months tank \u001b[0m\n",
       "\u001b[92mmaturation of the blend prior to bottling, July 2007. '\u001b[0m\n",
       "    \u001b[1m}\u001b[0m,\n",
       "    \u001b[1m{\u001b[0m\n",
       "        \u001b[92m'name'\u001b[0m: \u001b[92m'Abreu Vineyards Cappella 2007'\u001b[0m,\n",
       "        \u001b[92m'region'\u001b[0m: \u001b[92m'Napa Valley, California'\u001b[0m,\n",
       "        \u001b[92m'variety'\u001b[0m: \u001b[92m'Red Wine'\u001b[0m,\n",
       "        \u001b[92m'rating'\u001b[0m: \u001b[91m96.0\u001b[0m,\n",
       "        \u001b[92m'notes'\u001b[0m: \u001b[92m'Cappella is a proprietary blend of two clones of Cabernet Sauvignon with Cabernet Franc, Petit \u001b[0m\n",
       "\u001b[92mVerdot and Merlot. The gravelly soil at Cappella produces fruit that is very elegant in structure. The resulting \u001b[0m\n",
       "\u001b[92mwine exhibits beautiful purity of fruit with fine grained and lengthy tannins. '\u001b[0m\n",
       "    \u001b[1m}\u001b[0m\n",
       "\u001b[1m]\u001b[0m\n"
      ]
     },
     "metadata": {},
     "output_type": "display_data"
    }
   ],
   "source": [
    "# 导入 pandas 库，用于数据处理和分析\n",
    "import pandas as pd\n",
    "\n",
    "# 读取 CSV 文件 'data/top_rated_wines.csv' 并将其加载到一个 DataFrame 中\n",
    "# 使用 query 方法过滤掉 'variety' 列中值为 NaN 的行\n",
    "# 使用 reset_index 方法重置索引，并丢弃旧的索引列\n",
    "# 使用 to_dict 方法将 DataFrame 转换为字典列表，其中每个字典代表一行数据\n",
    "data = (\n",
    "    pd\n",
    "    .read_csv('data/top_rated_wines.csv')  # 读取 CSV 文件\n",
    "    .query('variety.notna()')  # 过滤掉 'variety' 列中值为 NaN 的行\n",
    "    .reset_index(drop=True)  # 重置索引，并丢弃旧的索引列\n",
    "    .to_dict('records')  # 将 DataFrame 转换为字典列表\n",
    ")\n",
    "\n",
    "# 使用 console.print 方法打印前两行数据\n",
    "console.print(data[:2])"
   ]
  },
  {
   "cell_type": "markdown",
   "metadata": {},
   "source": [
    "## 使用向量嵌入编码  <a id='encode-using-vector-embedding'></a>\n",
    "\n",
    "我们将使用流行的开源向量数据库 [Qdrant](https://qdrant.tech/)，以及流行的嵌入编码器和文本转换库 [SentenceTransformer](https://sbert.net/)。"
   ]
  },
  {
   "cell_type": "code",
   "execution_count": 7,
   "metadata": {},
   "outputs": [],
   "source": [
    "from qdrant_client import models, QdrantClient\n",
    "# qdrant_client 是一个用于与 Qdrant 向量数据库进行交互的 Python 客户端库。\n",
    "# models 模块包含了 Qdrant 的数据模型，QdrantClient 是用于与 Qdrant 服务器进行通信的客户端类。\n",
    "from sentence_transformers import SentenceTransformer\n",
    "# sentence_transformers 是一个用于生成句子嵌入（sentence embeddings）的库。\n",
    "# SentenceTransformer 类用于加载预训练的模型来将文本转换为向量表示。\n",
    "# 创建向量数据库客户端\n",
    "qdrant = QdrantClient(\":memory:\")\n",
    "# 创建了一个 Qdrant 客户端实例，并将其配置为在内存中运行。\n",
    "# 这意味着所有的数据操作（如插入、查询等）都将在内存中进行，而不会持久化到磁盘。\n",
    "# 这对于测试和开发环境非常有用，因为它可以快速启动和销毁，而不需要管理磁盘上的数据文件。\n",
    "\n",
    "# Create the embedding encoder\n",
    "encoder = SentenceTransformer('all-MiniLM-L6-v2')\n",
    "# SentenceTransformer('all-MiniLM-L6-v2') 创建了一个句子嵌入编码器实例，并加载了预训练的模型 all-MiniLM-L6-v2。\n",
    "# 这个模型是一个轻量级的语言模型，专门用于将句子转换为高维向量（嵌入）。\n",
    "# 这些嵌入可以用于各种自然语言处理任务，如文本相似度计算、聚类、分类等\n",
    "\n",
    "# 总结\n",
    "# 这段代码的主要目的是初始化一个在内存中运行的 Qdrant 向量数据库客户端，并加载一个预训练的句子嵌入模型。\n",
    "# 后续的代码可能会使用 encoder 将文本转换为向量，\n",
    "# 并使用 qdrant 客户端将这些向量存储到 Qdrant 数据库中，或者进行相似度搜索等操作。\n"
   ]
  },
  {
   "cell_type": "code",
   "execution_count": null,
   "metadata": {},
   "outputs": [],
   "source": [
    "# 这段代码是用于在Qdrant向量数据库中创建一个新的集合（collection），用于存储葡萄酒评分数据。\n",
    "# Qdrant是一个用于向量相似性搜索的开源向量数据库。\n",
    "collection_name=\"top_wines\"\n",
    "\n",
    "# qdrant.recreate_collection() 是Qdrant提供的一个方法，用于重新创建一个集合。\n",
    "# 如果集合已经存在，它会被删除并重新创建；如果集合不存在，则会直接创建一个新的集合。\n",
    "# \n",
    "# vectors_config=models.VectorParams(...)：这个参数用于配置集合中向量的属性。\n",
    "# models.VectorParams 是一个类，用于定义向量的参数。\n",
    "# \n",
    "# encoder.get_sentence_embedding_dimension() 是一个方法调用，返回编码器（encoder）生成的句子嵌入的维度。\n",
    "# 这意味着向量的维度是由所使用的模型决定的。\n",
    "# \n",
    "# distance=models.Distance.COSINE：distance 参数指定了向量之间的距离度量方式。\n",
    "# \n",
    "# models.Distance.COSINE 表示使用余弦相似度作为距离度量方式。\n",
    "# 余弦相似度是一种常用的向量相似度度量方法，特别适用于文本嵌入向量的比较。\n",
    "qdrant.recreate_collection(\n",
    "    collection_name=collection_name,\n",
    "    vectors_config=models.VectorParams(\n",
    "        size=encoder.get_sentence_embedding_dimension(), # Vector size is defined by used model\n",
    "        distance=models.Distance.COSINE\n",
    "    )\n",
    ")\n",
    "\n"
   ]
  },
  {
   "cell_type": "markdown",
   "metadata": {},
   "source": [
    "### 将数据加载到向量数据库中\n",
    "\n",
    "我们将使用上面创建的（向量）集合，遍历葡萄酒数据集的 `notes` 列，将其编码为嵌入向量，并存储到向量数据库中。在加载数据的同时，后台会运行数据索引以支持快速检索。\n",
    "\n",
    "此步骤将花费几秒钟时间（在我的笔记本电脑上不到一分钟）。"
   ]
  },
  {
   "cell_type": "code",
   "execution_count": null,
   "metadata": {},
   "outputs": [],
   "source": [
    "# vectorize!\n",
    "qdrant.upload_points(\n",
    "    collection_name=collection_name,\n",
    "    points=[\n",
    "        models.PointStruct(\n",
    "            id=idx,\n",
    "            vector=encoder.encode(doc[\"notes\"]).tolist(),\n",
    "            payload=doc\n",
    "        ) for idx, doc in enumerate(data) # data is the variable holding all the wines\n",
    "    ]\n",
    ")"
   ]
  },
  {
   "cell_type": "code",
   "execution_count": null,
   "metadata": {},
   "outputs": [],
   "source": [
    "console.print(qdrant.get_collection(collection_name=collection_name))"
   ]
  },
  {
   "cell_type": "markdown",
   "metadata": {},
   "source": [
    "## **R**etrieve：基于用户查询检索语义相关数据 <a id='retrieve-sematically-relevant-data-based-on-users-query'></a>\n",
    "\n",
    "一旦数据加载到向量数据库并且索引过程完成，我们就可以开始使用我们的简单 RAG 系统了。"
   ]
  },
  {
   "cell_type": "code",
   "execution_count": null,
   "metadata": {},
   "outputs": [],
   "source": [
    "user_prompt = \"Suggest me an amazing Malbec wine from Argentina\""
   ]
  },
  {
   "cell_type": "markdown",
   "metadata": {},
   "source": [
    "### 编码用户的查询\n",
    "\n",
    "我们将使用与编码文档数据相同的编码器来编码用户的查询。  \n",
    "通过这种方式，我们可以基于语义相似性来搜索结果。"
   ]
  },
  {
   "cell_type": "code",
   "execution_count": null,
   "metadata": {},
   "outputs": [],
   "source": [
    "query_vector = encoder.encode(user_prompt).tolist()"
   ]
  },
  {
   "cell_type": "markdown",
   "metadata": {},
   "source": [
    "### 搜索相似的行\n",
    "\n",
    "现在，我们可以使用用户查询的嵌入编码，在向量数据库中查找相似的行。"
   ]
  },
  {
   "cell_type": "code",
   "execution_count": null,
   "metadata": {},
   "outputs": [],
   "source": [
    "# Search time for awesome wines!\n",
    "\n",
    "hits = qdrant.search(\n",
    "    collection_name=collection_name,\n",
    "    query_vector=query_vector,\n",
    "    limit=3\n",
    ")"
   ]
  },
  {
   "cell_type": "code",
   "execution_count": null,
   "metadata": {},
   "outputs": [],
   "source": [
    "from rich.console import Console\n",
    "from rich.text import Text\n",
    "from rich.table import Table\n",
    "\n",
    "table = Table(title=\"Retrieval Results\", show_lines=True)\n",
    "\n",
    "table.add_column(\"Name\", style=\"#e0e0e0\")\n",
    "table.add_column(\"Region\", style=\"bright_red\")\n",
    "table.add_column(\"Variety\", style=\"green\")\n",
    "table.add_column(\"Rating\", style=\"yellow\")\n",
    "table.add_column(\"Notes\", style=\"#89ddff\")\n",
    "table.add_column(\"Score\", style=\"#a6accd\")\n",
    "\n",
    "for hit in hits:\n",
    "    table.add_row(\n",
    "        hit.payload[\"name\"],\n",
    "        hit.payload[\"region\"],\n",
    "        hit.payload[\"variety\"],\n",
    "        str(hit.payload[\"rating\"]),\n",
    "        f'{hit.payload[\"notes\"][:50]}...',\n",
    "        f\"{hit.score:.4f}\"\n",
    "    )\n",
    "\n",
    "console.print(table)"
   ]
  },
  {
   "cell_type": "markdown",
   "metadata": {},
   "source": [
    "## **A**ugment：将检索到的数据增强到 LLM 的提示中 <a id='augment-the-prompt-to-the-llm-with-retrieved-data'></a>\n",
    "\n",
    "在我们的简单示例中，我们将直接使用前 3 个结果，并将它们原样添加到生成 LLM 的提示中。"
   ]
  },
  {
   "cell_type": "markdown",
   "metadata": {},
   "source": [
    "## **G**enerate：生成对用户查询的回复 <a id='generate-reply-to-the-users-query'></a>\n",
    "\n",
    "我们将使用 [OpenAI](https://platform.openai.com/docs/models) 中最受欢迎的生成式 AI 大语言模型之一。"
   ]
  },
  {
   "cell_type": "code",
   "execution_count": null,
   "metadata": {},
   "outputs": [],
   "source": [
    "from dotenv import load_dotenv\n",
    "\n",
    "load_dotenv()"
   ]
  },
  {
   "cell_type": "markdown",
   "metadata": {},
   "source": [
    "### 首先，尝试不使用 **R**etrieval（检索）\n",
    "\n",
    "我们可以仅基于用户提示让 LLM 进行推荐。"
   ]
  },
  {
   "cell_type": "code",
   "execution_count": null,
   "metadata": {},
   "outputs": [],
   "source": [
    "# Now time to connect to the large language model\n",
    "from openai import OpenAI\n",
    "from rich.panel import Panel\n",
    "\n",
    "# client = OpenAI()\n",
    "client = OpenAI(api_key=\"sk-83db2355e64e4639ace2fbaaf75e1f4a\", base_url=\"https://api.deepseek.com\")\n",
    "completion = client.chat.completions.create(\n",
    "    # model=\"gpt-3.5-turbo\",\n",
    "    model=\"deepseek-chat\",\n",
    "    messages=[\n",
    "        {\"role\": \"system\", \"content\": \"You are chatbot, a wine specialist. Your top priority is to help guide users into selecting amazing wine and guide them with their requests.\"},\n",
    "        {\"role\": \"user\", \"content\": user_prompt},\n",
    "        {\"role\": \"assistant\", \"content\": \"Here is my wine recommendation:\"}\n",
    "    ]\n",
    ")\n",
    "\n",
    "response_text = Text(completion.choices[0].message.content)\n",
    "styled_panel = Panel(\n",
    "    response_text,\n",
    "    title=\"Wine Recommendation without Retrieval\",\n",
    "    expand=False,\n",
    "    border_style=\"bold green\",\n",
    "    padding=(1, 1)\n",
    ")\n",
    "\n",
    "console.print(styled_panel)"
   ]
  },
  {
   "cell_type": "markdown",
   "metadata": {},
   "source": [
    "### 现在，添加 **R**etrieval（检索）结果\n",
    "\n",
    "推荐听起来很棒，但我们的库存和菜单中没有这款葡萄酒。此外，可能有一些新葡萄酒是 LLM 预训练数据中未包含的。\n",
    "\n",
    "我们将使用 **R**etrieval 结果运行相同的查询，以获得更符合我们业务需求的推荐。"
   ]
  },
  {
   "cell_type": "code",
   "execution_count": null,
   "metadata": {},
   "outputs": [],
   "source": [
    "# define a variable to hold the search results\n",
    "search_results = [hit.payload for hit in hits]"
   ]
  },
  {
   "cell_type": "code",
   "execution_count": null,
   "metadata": {},
   "outputs": [],
   "source": [
    "completion = client.chat.completions.create(\n",
    "    # model=\"gpt-3.5-turbo\",\n",
    "    model=\"deepseek-chat\",\n",
    "    messages=[\n",
    "        {\"role\": \"system\", \"content\": \"You are chatbot, a wine specialist. Your top priority is to help guide users into selecting amazing wine and guide them with their requests.\"},\n",
    "        {\"role\": \"user\", \"content\": user_prompt},\n",
    "        {\"role\": \"assistant\", \"content\": str(search_results)}\n",
    "    ]\n",
    ")\n",
    "\n",
    "response_text = Text(completion.choices[0].message.content)\n",
    "styled_panel = Panel(\n",
    "    response_text,\n",
    "    title=\"Wine Recommendation with Retrieval\",\n",
    "    expand=False,\n",
    "    border_style=\"bold green\",\n",
    "    padding=(1, 1)\n",
    ")\n",
    "\n",
    "console.print(styled_panel)"
   ]
  },
  {
   "cell_type": "code",
   "execution_count": null,
   "metadata": {},
   "outputs": [],
   "source": []
  }
 ],
 "metadata": {
  "kernelspec": {
   "display_name": ".venv",
   "language": "python",
   "name": "python3"
  },
  "language_info": {
   "codemirror_mode": {
    "name": "ipython",
    "version": 3
   },
   "file_extension": ".py",
   "mimetype": "text/x-python",
   "name": "python",
   "nbconvert_exporter": "python",
   "pygments_lexer": "ipython3",
   "version": "3.12.6"
  }
 },
 "nbformat": 4,
 "nbformat_minor": 2
}
